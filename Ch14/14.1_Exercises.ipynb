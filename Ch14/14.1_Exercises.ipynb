{
 "cells": [
  {
   "cell_type": "code",
   "execution_count": null,
   "id": "cdf8c94c",
   "metadata": {},
   "outputs": [],
   "source": [
    "# Problem 1\n",
    "from pathlib import Path\n",
    "from PyPDF2 import PdfReader\n",
    "\n",
    "pdf_path = Path(r\"C:\\Study\\Coding\\Real_Python Basic\\Ch14\\Practice_Folder\\zen.pdf\")\n",
    "pdf = PdfReader(str(pdf_path))"
   ]
  },
  {
   "cell_type": "code",
   "execution_count": null,
   "id": "44a24310",
   "metadata": {},
   "outputs": [
    {
     "data": {
      "text/plain": [
       "1\n"
      ]
     },
     "metadata": {},
     "output_type": "display_data"
    }
   ],
   "source": [
    "# Problem 2\n",
    "print(len(pdf.pages))"
   ]
  },
  {
   "cell_type": "code",
   "execution_count": null,
   "id": "4c673ec3",
   "metadata": {},
   "outputs": [
    {
     "data": {
      "text/plain": [
       "The Zen of Python, by Tim Peters\n",
       "Beautiful is better than ugly.\n",
       "Explicit is better than implicit.\n",
       "Simple is better than complex.\n",
       "Complex is better than complicated.\n",
       "Flat is better than nested.\n",
       "Sparse is better than dense.\n",
       "Readability counts.\n",
       "Special cases aren't special enough to break the rules.\n",
       "Although practicality beats purity.\n",
       "Errors should never pass silently.\n",
       "Unless explicitly silenced.\n",
       "In the face of ambiguity, refuse the temptation to guess.\n",
       "There should be one-- and preferably only one --obvious way to do it.\n",
       "Although that way may not be obvious at ﬁrst unless you're Dutch.\n",
       "Now is better than never.\n",
       "Although never is often better than *right* now.\n",
       "If the implementation is hard to explain, it's a bad idea.\n",
       "If the implementation is easy to explain, it may be a good idea.\n",
       "Namespaces are one honking great idea -- let's do more of those!\n"
      ]
     },
     "metadata": {},
     "output_type": "display_data"
    }
   ],
   "source": [
    "# Problem 3\n",
    "first_page = pdf.pages[0]\n",
    "print(first_page.extract_text())"
   ]
  }
 ],
 "metadata": {
  "language_info": {
   "name": "python"
  }
 },
 "nbformat": 4,
 "nbformat_minor": 5
}
