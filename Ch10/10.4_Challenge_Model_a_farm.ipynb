{
 "cells": [
  {
   "cell_type": "code",
   "execution_count": 11,
   "id": "2ab38463-2592-4be6-ad20-bd5e6fd5215a",
   "metadata": {},
   "outputs": [],
   "source": [
    "#%%\n",
    "\n",
    "class Animal:\n",
    "\n",
    "    def __init__(self, name, color):\n",
    "        self.name = name\n",
    "        self.color = color\n",
    "        self.position = 0\n",
    "        self.stuff_in_belly =0\n",
    "\n",
    "    def talk(self, sound = None):\n",
    "        if sound == None:\n",
    "            return f\"Hello, I am {self.name}.\"\n",
    "        return f\"{self.name} says {sound}.\"\n",
    "    \n",
    "    def walk(self, walk_increment):\n",
    "        self.position += walk_increment\n",
    "        return self.position\n",
    "    \n",
    "    def run(self, run_increment):\n",
    "        self.position += run_increment\n",
    "        return self.position\n",
    "    \n",
    "    def feed(self):\n",
    "        self.stuff_in_belly += 1\n",
    "        if self.stuff_in_belly > 3:\n",
    "            return self.poop()\n",
    "        else:\n",
    "            return f\"{self.name} is eating\"\n",
    "        \n",
    "    def poop(self):\n",
    "        self.stuff_in_belly = 0\n",
    "        return \"Ate too much ... need to find a bathroom\"\n",
    "    \n",
    "    def is_hungry(self):\n",
    "        if self.stuff_in_belly < 2:\n",
    "            return f\"{self.name} is hungry\"\n",
    "        else:\n",
    "            return f\"{self.name} is not hungry\"\n",
    "    \n",
    "    def movement(self):\n",
    "        if self.position > 0:\n",
    "            return f\"{self.name} has exercised\"\n",
    "        else:\n",
    "            return f\"{self.name} need some exercises\"\n",
    "        \n",
    "class Dog(Animal):\n",
    "\n",
    "    def __init__(self, name, color, toy):\n",
    "        super().__init__(name, color)\n",
    "        self.toy = toy\n",
    "    \n",
    "    def talk(self, sound = \"Arf\"):\n",
    "        return super().talk(sound)\n",
    "    \n",
    "    def play(self, distance = 0, new_toy = None):\n",
    "        switch = \"\"\n",
    "        self.new_toy = new_toy\n",
    "        if new_toy is not None and new_toy != self.toy:\n",
    "            old = self.toy\n",
    "            self.toy = new_toy\n",
    "            switch =  f\"you decided play {self.new_toy} with {self.name}\"\n",
    "        \n",
    "        super().run(distance)\n",
    "        return (f\"{switch}\\n\"\n",
    "            f\"You through a {self.toy} and made {self.name} ran for total of {self.position} meters\")\n",
    "\n",
    "class Sheep(Animal):\n",
    "\n",
    "    def talk(self, sound =\"Baaa Baaa\" ):\n",
    "        return super().talk(sound)\n",
    "    \n",
    "class Pig(Animal):\n",
    "\n",
    "    def talk(self, sound =\"Oink Oink\"):\n",
    "        return super().talk(sound)\n",
    "    \n",
    "class Llama(Animal):\n",
    "\n",
    "    def talk(self, sound):\n",
    "        return super().talk(sound)\n",
    "    \n",
    "    def emotion(self, weather):\n",
    "        if weather == \"sunny\":\n",
    "            return f\"{self.name} is in a good mood\"\n",
    "        elif weather == \"cloudy\" or \"rain\":\n",
    "            return f\"Not in a good mood, {self.name} spit on me\"\n",
    "        \n",
    "#Create a dog\n",
    "heli = Dog(\"Heli\", \"yellow\", \"ball\")\n",
    "\n",
    "#Create a sheep\n",
    "sarah = Sheep(\"Sarah\", \"white\")\n",
    "\n",
    "#Create a pig\n",
    "jack = Pig(\"Jack\", \"pink\")\n",
    "\n",
    "#Create a llama\n",
    "carl = Llama(\"Carl\", \"white\")"
   ]
  },
  {
   "cell_type": "code",
   "execution_count": 14,
   "metadata": {},
   "outputs": [
    {
     "name": "stdout",
     "output_type": "stream",
     "text": [
      "Carl is in a good mood\n",
      "Not in a good mood, Carl spit on me\n"
     ]
    }
   ],
   "source": [
    "print(carl.emotion(\"sunny\"))\n",
    "print(carl.emotion(\"rain\"))"
   ]
  },
  {
   "cell_type": "code",
   "execution_count": 13,
   "metadata": {},
   "outputs": [
    {
     "name": "stdout",
     "output_type": "stream",
     "text": [
      "Heli is eating\n",
      "Heli is eating\n",
      "Heli is eating\n",
      "Ate too much ... need to find a bathroom\n"
     ]
    }
   ],
   "source": [
    "print(heli.feed())\n",
    "print(heli.feed())\n",
    "print(heli.feed())\n",
    "print(heli.feed())"
   ]
  },
  {
   "cell_type": "code",
   "execution_count": 12,
   "metadata": {},
   "outputs": [
    {
     "name": "stdout",
     "output_type": "stream",
     "text": [
      "\n",
      "You through a ball and made Heli ran for total of 60 meters\n",
      "you decided play ropes with Heli\n",
      "You through a ropes and made Heli ran for total of 260 meters\n"
     ]
    }
   ],
   "source": [
    "print(heli.play(60))\n",
    "print(heli.play(200, \"ropes\"))"
   ]
  }
 ],
 "metadata": {
  "kernelspec": {
   "display_name": "Python 3",
   "language": "python",
   "name": "python3"
  },
  "language_info": {
   "codemirror_mode": {
    "name": "ipython",
    "version": 3
   },
   "file_extension": ".py",
   "mimetype": "text/x-python",
   "name": "python",
   "nbconvert_exporter": "python",
   "pygments_lexer": "ipython3",
   "version": "3.13.2"
  }
 },
 "nbformat": 4,
 "nbformat_minor": 2
}
