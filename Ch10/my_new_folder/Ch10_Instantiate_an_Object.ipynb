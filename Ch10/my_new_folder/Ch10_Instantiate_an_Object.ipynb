{
 "cells": [
  {
   "cell_type": "code",
   "execution_count": 1,
   "id": "a86841ad",
   "metadata": {},
   "outputs": [],
   "source": [
    "# Problem 1:\n",
    "class Dog:\n",
    "    spcies = \"Canis familiaris\"\n",
    "\n",
    "    def __init__(self, name, age, coat_color):\n",
    "        self.name = name\n",
    "        self.age = age\n",
    "        self.coat_color = coat_color\n",
    "\n",
    "    def __str__(self):\n",
    "        return f\"{self.name} is {self.age} years old\"\n",
    "    \n",
    "    def speak(self, sound):\n",
    "        return f\"{self.name} says {sound}\"\n",
    "    "
   ]
  },
  {
   "cell_type": "code",
   "execution_count": 3,
   "id": "85fec4cb",
   "metadata": {},
   "outputs": [
    {
     "name": "stdout",
     "output_type": "stream",
     "text": [
      "Philo's coat is brown\n"
     ]
    }
   ],
   "source": [
    "# Problem 1 Output\n",
    "\n",
    "philo = Dog(\"Philo\", 5, \"brown\")\n",
    "print(f\"{philo.name}'s coat is {philo.coat_color}\")"
   ]
  },
  {
   "cell_type": "code",
   "execution_count": null,
   "id": "61563e8f",
   "metadata": {},
   "outputs": [],
   "source": [
    "#Problem 2\n",
    "\n",
    "class Car:\n",
    "\n",
    "    def __init__(self, color, mileage):\n",
    "        self.color = color\n",
    "        self.mileage = mileage\n",
    "    "
   ]
  },
  {
   "cell_type": "code",
   "execution_count": 13,
   "id": "246c08de",
   "metadata": {},
   "outputs": [
    {
     "name": "stdout",
     "output_type": "stream",
     "text": [
      "The red car has 20,000 miles.\n",
      "The blue car has 30,000 miles.\n"
     ]
    }
   ],
   "source": [
    "#Problem 2 Output\n",
    "\n",
    "red_car = Car(\"red\", 20000)\n",
    "blue_car = Car(\"blue\", 30000)\n",
    "\n",
    "print(f\"The {red_car.color} car has {red_car.mileage :,} miles.\")\n",
    "print(f\"The {blue_car.color} car has {blue_car.mileage :,} miles.\")\n"
   ]
  },
  {
   "cell_type": "code",
   "execution_count": null,
   "id": "f336bad0",
   "metadata": {},
   "outputs": [],
   "source": [
    "# Problem 3:\n",
    "\n",
    "class Car:\n",
    "\n",
    "    def __init__(self, color, mileage):\n",
    "        self.color = color\n",
    "        self.mileage = mileage\n",
    "    \n",
    "    def drive(self, new_mileage):\n",
    "        self.driven = self.mileage + new_mileage\n",
    "        return f\"{self.color} car has been driven {self.driven :,} miles.\"\n",
    "\n"
   ]
  },
  {
   "cell_type": "code",
   "execution_count": 16,
   "id": "5f2141dd",
   "metadata": {},
   "outputs": [
    {
     "data": {
      "text/plain": [
       "'red car has been driven 100,100 mile'"
      ]
     },
     "execution_count": 16,
     "metadata": {},
     "output_type": "execute_result"
    }
   ],
   "source": [
    "# Problem 3 Output:\n",
    "red_car = Car(\"red\", 100000)\n",
    "red_car.drive(100)"
   ]
  }
 ],
 "metadata": {
  "kernelspec": {
   "display_name": "Python 3",
   "language": "python",
   "name": "python3"
  },
  "language_info": {
   "codemirror_mode": {
    "name": "ipython",
    "version": 3
   },
   "file_extension": ".py",
   "mimetype": "text/x-python",
   "name": "python",
   "nbconvert_exporter": "python",
   "pygments_lexer": "ipython3",
   "version": "3.13.2"
  }
 },
 "nbformat": 4,
 "nbformat_minor": 5
}
