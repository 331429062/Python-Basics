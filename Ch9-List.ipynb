{
 "cells": [
  {
   "cell_type": "code",
   "execution_count": 7,
   "id": "665c4d80",
   "metadata": {},
   "outputs": [],
   "source": [
    "# Problem 1\n",
    "\n",
    "food = ['rice', 'beans']"
   ]
  },
  {
   "cell_type": "code",
   "execution_count": 8,
   "id": "c6c18d30",
   "metadata": {},
   "outputs": [
    {
     "name": "stdout",
     "output_type": "stream",
     "text": [
      "['rice', 'beans', 'broccoli']\n"
     ]
    }
   ],
   "source": [
    "# Problem 2\n",
    "\n",
    "food.append('broccoli')\n",
    "print(food)"
   ]
  },
  {
   "cell_type": "code",
   "execution_count": 9,
   "id": "c9342f7d",
   "metadata": {},
   "outputs": [
    {
     "name": "stdout",
     "output_type": "stream",
     "text": [
      "['rice', 'beans', 'broccoli', 'bread', 'pizza']\n"
     ]
    }
   ],
   "source": [
    "# Problem 3\n",
    "\n",
    "extra_food = ['bread','pizza']\n",
    "food.extend(extra_food)\n",
    "print(food)"
   ]
  },
  {
   "cell_type": "code",
   "execution_count": 11,
   "id": "c7860fbd",
   "metadata": {},
   "outputs": [
    {
     "name": "stdout",
     "output_type": "stream",
     "text": [
      "['rice', 'beans']\n"
     ]
    }
   ],
   "source": [
    "# Problem 4\n",
    "\n",
    "print(food[:2])"
   ]
  },
  {
   "cell_type": "code",
   "execution_count": 13,
   "id": "89badc89",
   "metadata": {},
   "outputs": [
    {
     "name": "stdout",
     "output_type": "stream",
     "text": [
      "['pizza']\n"
     ]
    }
   ],
   "source": [
    "# Problem 5\n",
    "\n",
    "print(food[-1:])"
   ]
  },
  {
   "cell_type": "code",
   "execution_count": 15,
   "id": "1bb8fcbc",
   "metadata": {},
   "outputs": [
    {
     "name": "stdout",
     "output_type": "stream",
     "text": [
      "['eggs', 'fruit', 'orange juice']\n"
     ]
    }
   ],
   "source": [
    "# Problem 6\n",
    "\n",
    "string = 'eggs, fruit, orange juice'\n",
    "breakfast = string.split(', ')\n",
    "print(breakfast)"
   ]
  },
  {
   "cell_type": "code",
   "execution_count": 16,
   "id": "2a8bad64",
   "metadata": {},
   "outputs": [
    {
     "name": "stdout",
     "output_type": "stream",
     "text": [
      "3\n"
     ]
    }
   ],
   "source": [
    "# Problem 7\n",
    "\n",
    "print(len(breakfast))"
   ]
  },
  {
   "cell_type": "code",
   "execution_count": 17,
   "id": "098e879e",
   "metadata": {},
   "outputs": [
    {
     "name": "stdout",
     "output_type": "stream",
     "text": [
      "[4, 5, 12]\n"
     ]
    }
   ],
   "source": [
    "# Problem 8\n",
    "length = []\n",
    "for item in breakfast:\n",
    "    length.append(len(item))\n",
    "\n",
    "print(length)"
   ]
  }
 ],
 "metadata": {
  "kernelspec": {
   "display_name": "Python 3",
   "language": "python",
   "name": "python3"
  },
  "language_info": {
   "codemirror_mode": {
    "name": "ipython",
    "version": 3
   },
   "file_extension": ".py",
   "mimetype": "text/x-python",
   "name": "python",
   "nbconvert_exporter": "python",
   "pygments_lexer": "ipython3",
   "version": "3.13.2"
  }
 },
 "nbformat": 4,
 "nbformat_minor": 5
}
