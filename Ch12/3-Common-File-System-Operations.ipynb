{
 "cells": [
  {
   "cell_type": "code",
   "execution_count": 4,
   "id": "2429a8c8",
   "metadata": {},
   "outputs": [
    {
     "data": {
      "text/plain": [
       "True"
      ]
     },
     "execution_count": 4,
     "metadata": {},
     "output_type": "execute_result"
    }
   ],
   "source": [
    "#Problem 1\n",
    "\n",
    "import pathlib\n",
    "\n",
    "new_dir = pathlib.Path.home()/'my_folder'\n",
    "new_dir.mkdir(exist_ok=True)\n",
    "new_dir.exists()"
   ]
  },
  {
   "cell_type": "code",
   "execution_count": null,
   "id": "cd0a86c5",
   "metadata": {},
   "outputs": [],
   "source": [
    "#Problem 2\n",
    "paths = [\n",
    "    new_dir/'file1.txt',\n",
    "    new_dir/'file2.txt',\n",
    "    new_dir/'image1.png'\n",
    "]\n",
    "\n",
    "for path in paths:\n",
    "    path.touch()"
   ]
  },
  {
   "cell_type": "code",
   "execution_count": 18,
   "id": "f4a6351d",
   "metadata": {},
   "outputs": [
    {
     "data": {
      "text/plain": [
       "WindowsPath('C:/Users/Seanny/my_folder/images/image1.png')"
      ]
     },
     "execution_count": 18,
     "metadata": {},
     "output_type": "execute_result"
    }
   ],
   "source": [
    "#Problem 3\n",
    "new_dir1 = new_dir/'images'\n",
    "new_dir1.mkdir()\n",
    "source = new_dir/'image1.png'\n",
    "destination = new_dir1/'image1.png'\n",
    "source.replace(destination)"
   ]
  },
  {
   "cell_type": "code",
   "execution_count": 21,
   "id": "4fde2287",
   "metadata": {},
   "outputs": [
    {
     "data": {
      "text/plain": [
       "False"
      ]
     },
     "execution_count": 21,
     "metadata": {},
     "output_type": "execute_result"
    }
   ],
   "source": [
    "#Problem 4\n",
    "path1 = new_dir/'file1.txt'\n",
    "path1.unlink(missing_ok=True)\n",
    "path1.exists()\n"
   ]
  },
  {
   "cell_type": "code",
   "execution_count": 22,
   "id": "c5f662de",
   "metadata": {},
   "outputs": [
    {
     "data": {
      "text/plain": [
       "False"
      ]
     },
     "execution_count": 22,
     "metadata": {},
     "output_type": "execute_result"
    }
   ],
   "source": [
    "#Problem 4\n",
    "import shutil\n",
    "\n",
    "shutil.rmtree(new_dir)\n",
    "new_dir.exists()\n"
   ]
  }
 ],
 "metadata": {
  "kernelspec": {
   "display_name": "Python 3",
   "language": "python",
   "name": "python3"
  },
  "language_info": {
   "codemirror_mode": {
    "name": "ipython",
    "version": 3
   },
   "file_extension": ".py",
   "mimetype": "text/x-python",
   "name": "python",
   "nbconvert_exporter": "python",
   "pygments_lexer": "ipython3",
   "version": "3.13.2"
  }
 },
 "nbformat": 4,
 "nbformat_minor": 5
}
