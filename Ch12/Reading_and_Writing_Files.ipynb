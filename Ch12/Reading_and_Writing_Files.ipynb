{
 "cells": [
  {
   "cell_type": "code",
   "execution_count": null,
   "id": "dd3ed375",
   "metadata": {},
   "outputs": [
    {
     "data": {
      "text/plain": [
       "Discorvery\n",
       "\n",
       "Enterprise\n",
       "\n",
       "Defiant\n",
       "\n",
       "Voyager\n",
       "\n"
      ]
     },
     "metadata": {},
     "output_type": "display_data"
    }
   ],
   "source": [
    "#Problem 1\n",
    "from pathlib import Path\n",
    "\n",
    "path = Path.home()/'starships.txt'\n",
    "\n",
    "line_text = [\n",
    "    'Discorvery\\n',\n",
    "    'Enterprise\\n',\n",
    "    'Defiant\\n',\n",
    "    'Voyager\\n',\n",
    "]\n",
    "\n",
    "with path.open(mode='w', encoding='utf-8') as file:\n",
    "    file.writelines(line_text)\n",
    "\n",
    "with path.open(mode='r', encoding='utf-8') as file:\n",
    "    for text in file.readlines():\n",
    "        print(text)"
   ]
  },
  {
   "cell_type": "code",
   "execution_count": null,
   "id": "45d8e0eb",
   "metadata": {},
   "outputs": [
    {
     "data": {
      "text/plain": [
       "Discorvery\n",
       "Enterprise\n",
       "Defiant\n",
       "Voyager\n"
      ]
     },
     "metadata": {},
     "output_type": "display_data"
    }
   ],
   "source": [
    "#Problem 2\n",
    "with path.open(mode='r', encoding='utf-8') as file:\n",
    "    for line in file.readlines():\n",
    "        print(line, end=\"\")\n"
   ]
  },
  {
   "cell_type": "code",
   "execution_count": null,
   "id": "0d00289f",
   "metadata": {},
   "outputs": [
    {
     "data": {
      "text/plain": [
       "Discorvery\n",
       "Defiant\n"
      ]
     },
     "metadata": {},
     "output_type": "display_data"
    }
   ],
   "source": [
    "#Problem 3\n",
    "with path.open(mode='r', encoding='utf-8') as file:\n",
    "    for line in file.readlines():\n",
    "        print(line, end='') if line.startswith('D') else None"
   ]
  }
 ],
 "metadata": {
  "language_info": {
   "name": "python"
  }
 },
 "nbformat": 4,
 "nbformat_minor": 5
}
