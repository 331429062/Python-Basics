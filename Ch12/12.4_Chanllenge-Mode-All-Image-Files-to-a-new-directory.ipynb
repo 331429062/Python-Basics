{
 "cells": [
  {
   "cell_type": "code",
   "execution_count": 18,
   "id": "0d034d3f",
   "metadata": {},
   "outputs": [],
   "source": [
    "from pathlib import Path"
   ]
  },
  {
   "cell_type": "code",
   "execution_count": 19,
   "id": "044d1457",
   "metadata": {},
   "outputs": [],
   "source": [
    "new_dir = Path.home()/'practice_files'/'images'\n",
    "new_dir.mkdir(parents=False)"
   ]
  },
  {
   "cell_type": "code",
   "execution_count": 20,
   "id": "517a365f",
   "metadata": {},
   "outputs": [
    {
     "name": "stdout",
     "output_type": "stream",
     "text": [
      "[WindowsPath('C:/Users/Seanny/practice_files/documents/image1.png'), WindowsPath('C:/Users/Seanny/practice_files/documents/more_files/image2.gif'), WindowsPath('C:/Users/Seanny/practice_files/documents/more_files/even_more_files/image4.jpg'), WindowsPath('C:/Users/Seanny/practice_files/documents/files/additional files/image3.png')]\n"
     ]
    }
   ],
   "source": [
    "par_dir = Path.home()/'practice_files'\n",
    "paths = list(path for path in par_dir.rglob('*image*') if path.is_file())\n",
    "print(paths)"
   ]
  },
  {
   "cell_type": "code",
   "execution_count": 21,
   "id": "59af5a7e",
   "metadata": {},
   "outputs": [],
   "source": [
    "destination = Path.home()/'practice_files'/'images'\n",
    "for path in paths:\n",
    "    path.replace(destination/path.name)"
   ]
  },
  {
   "cell_type": "code",
   "execution_count": 22,
   "id": "789f4e3c",
   "metadata": {},
   "outputs": [
    {
     "name": "stdout",
     "output_type": "stream",
     "text": [
      "C:\\Users\\Seanny\\practice_files\\images\\image1.png\n",
      "C:\\Users\\Seanny\\practice_files\\images\\image2.gif\n",
      "C:\\Users\\Seanny\\practice_files\\images\\image3.png\n",
      "C:\\Users\\Seanny\\practice_files\\images\\image4.jpg\n"
     ]
    }
   ],
   "source": [
    "for path in new_dir.iterdir():\n",
    "    print(path)"
   ]
  }
 ],
 "metadata": {
  "kernelspec": {
   "display_name": "Python 3",
   "language": "python",
   "name": "python3"
  },
  "language_info": {
   "codemirror_mode": {
    "name": "ipython",
    "version": 3
   },
   "file_extension": ".py",
   "mimetype": "text/x-python",
   "name": "python",
   "nbconvert_exporter": "python",
   "pygments_lexer": "ipython3",
   "version": "3.13.2"
  }
 },
 "nbformat": 4,
 "nbformat_minor": 5
}
