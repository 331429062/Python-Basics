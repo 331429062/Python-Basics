{
 "cells": [
  {
   "cell_type": "code",
   "execution_count": 1,
   "id": "352d78dc",
   "metadata": {},
   "outputs": [],
   "source": [
    "# Problem 1\n",
    "\n",
    "cardinal_number = ('first', 'second', 'third')"
   ]
  },
  {
   "cell_type": "code",
   "execution_count": 2,
   "id": "f1f55256",
   "metadata": {},
   "outputs": [
    {
     "name": "stdout",
     "output_type": "stream",
     "text": [
      "second\n"
     ]
    }
   ],
   "source": [
    "# Problem 2\n",
    "\n",
    "print(cardinal_number[1])"
   ]
  },
  {
   "cell_type": "code",
   "execution_count": 4,
   "id": "ffaae7d9",
   "metadata": {},
   "outputs": [
    {
     "name": "stdout",
     "output_type": "stream",
     "text": [
      "('position 1', 'position 2', 'position 3')\n"
     ]
    }
   ],
   "source": [
    "#Problem 3\n",
    "\n",
    "cardinal_number = 'position 1', 'position 2', 'position 3'\n",
    "print(cardinal_number)"
   ]
  },
  {
   "cell_type": "code",
   "execution_count": 6,
   "id": "6975823f",
   "metadata": {},
   "outputs": [
    {
     "name": "stdout",
     "output_type": "stream",
     "text": [
      "('S', 'e', 'a', 'n', ' ', 'C', 'h', 'e', 'n')\n"
     ]
    }
   ],
   "source": [
    "#Problem 4\n",
    "\n",
    "my_name = 'Sean Chen'\n",
    "tup_name = tuple(my_name)\n",
    "\n",
    "print(tup_name)"
   ]
  },
  {
   "cell_type": "code",
   "execution_count": 7,
   "id": "0c53bb2a",
   "metadata": {},
   "outputs": [
    {
     "data": {
      "text/plain": [
       "False"
      ]
     },
     "execution_count": 7,
     "metadata": {},
     "output_type": "execute_result"
    }
   ],
   "source": [
    "#Problem 5\n",
    "\n",
    "\"x\" in tup_name"
   ]
  },
  {
   "cell_type": "code",
   "execution_count": 8,
   "id": "f4eeb791",
   "metadata": {},
   "outputs": [
    {
     "name": "stdout",
     "output_type": "stream",
     "text": [
      "('e', 'a', 'n', ' ', 'C', 'h', 'e', 'n')\n"
     ]
    }
   ],
   "source": [
    "#Problem 6\n",
    "tup_name_slice = tup_name[1:]\n",
    "print(tup_name_slice)"
   ]
  }
 ],
 "metadata": {
  "kernelspec": {
   "display_name": "Python 3",
   "language": "python",
   "name": "python3"
  },
  "language_info": {
   "codemirror_mode": {
    "name": "ipython",
    "version": 3
   },
   "file_extension": ".py",
   "mimetype": "text/x-python",
   "name": "python",
   "nbconvert_exporter": "python",
   "pygments_lexer": "ipython3",
   "version": "3.13.2"
  }
 },
 "nbformat": 4,
 "nbformat_minor": 5
}
